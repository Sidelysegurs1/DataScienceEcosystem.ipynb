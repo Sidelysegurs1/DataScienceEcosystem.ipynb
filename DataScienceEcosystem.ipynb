{
 "cells": [
  {
   "cell_type": "markdown",
   "id": "7f9949a7-ab65-4350-b5e6-82a870f06ea6",
   "metadata": {},
   "source": [
    "# Data Science Tools and Ecosystem"
   ]
  },
  {
   "cell_type": "markdown",
   "id": "887ed4e1-ea6a-4b90-a2e0-7ec85fce53df",
   "metadata": {},
   "source": [
    "## In this notebook, Data Science Tools and Ecosystem are summarized."
   ]
  },
  {
   "cell_type": "markdown",
   "id": "4b8f223e-d89c-4993-a6e0-336b150093cc",
   "metadata": {},
   "source": [
    "### Jupyter Notebook Creation in popular languages for Data Science\n",
    "\n",
    "#### **Objectives**:\n",
    "                      -Creating a Jupyter Notebook.\n",
    "                      -Insert Markdown Code and Cells.\n",
    "                      -Share your notebook via GitHub."
   ]
  },
  {
   "cell_type": "markdown",
   "id": "31b80615-4e82-40c1-a54f-2e067636c24a",
   "metadata": {},
   "source": [
    "#### Some of the popular languages that Data Scientists use are:\n",
    "\n",
    "  1. Python\n",
    "  2. R\n",
    "  3. SQL\n",
    "  4. Java\n",
    "  5. Julia\n",
    "  6. Scala\n",
    "  7. C/C++\n",
    "  8. JavaScript\n",
    "  9. Swif\n"
   ]
  },
  {
   "cell_type": "markdown",
   "id": "7e8deb1b-211f-4f81-85c1-50460f690cdd",
   "metadata": {},
   "source": [
    " #### Some of the commonly used libraries used by Data Scientists include:\n",
    " \n",
    " 1. NumPy.\n",
    " 2. Pandas.\n",
    " 3. Matplotlib.\n",
    " 4. Seaborn.\n",
    " 5. TensorFlow. \n",
    " 6. PyTorch.\n",
    " 7. Scikit-learn.\n"
   ]
  },
  {
   "cell_type": "markdown",
   "id": "29a3fed8-14aa-4c98-972d-65abdfee6bfa",
   "metadata": {},
   "source": [
    "|Data Science Tools|\n",
    "| ---------------------------- |\n",
    "| Jupyter Notebook             |\n",
    "| RStudio                      |\n",
    "| Apache Spark                 |"
   ]
  },
  {
   "cell_type": "markdown",
   "id": "c313be44-aab3-4a7f-ab41-144a64e10701",
   "metadata": {},
   "source": [
    "### Below are a few examples of evaluating arithmetic expressions in Python.\n",
    "\n",
    "1. Adding Two Numbers:\n",
    "```python\n",
    "2 + 3\n",
    "```\n",
    "\n",
    "2. Subtracting Two Numbers:\n",
    "```python\n",
    "10 - 5\n",
    "```\n",
    "\n",
    "3. Multiplying Two Numbers:\n",
    "```python\n",
    "4 * 6\n",
    "```\n",
    "\n",
    "4. Dividing Two Numbers:\n",
    "```python\n",
    "16 / 4\n",
    "```\n",
    "\n",
    "5. Calculating the Residue of a Division:\n",
    "```python\n",
    "18 % 7\n",
    "```"
   ]
  },
  {
   "cell_type": "code",
   "execution_count": 29,
   "id": "4c26bd4d-6879-405c-a755-001cbea6b5b0",
   "metadata": {},
   "outputs": [
    {
     "name": "stdout",
     "output_type": "stream",
     "text": [
      "17\n"
     ]
    }
   ],
   "source": [
    "# This is a simple arithmetic expression for adding and multiplying whole numbers\n",
    "number1 = 3\n",
    "number2 = 4\n",
    "number3 = 5\n",
    "result = (number1 * number2) + number3\n",
    "\n",
    "print(result)"
   ]
  },
  {
   "cell_type": "code",
   "execution_count": 30,
   "id": "6c53b62e-aa38-4e5b-9d44-7556fea09254",
   "metadata": {},
   "outputs": [
    {
     "name": "stdout",
     "output_type": "stream",
     "text": [
      "3.3333333333333335\n"
     ]
    }
   ],
   "source": [
    "# This will turn 200 minutes into hours diving in 60\n",
    "minutes = 200\n",
    "hours = minutes / 60\n",
    "print(hours)\n"
   ]
  },
  {
   "cell_type": "markdown",
   "id": "6edc3e3a-577c-4034-bb33-f72ae4ae5685",
   "metadata": {},
   "source": [
    "## Author\n",
    "Sidely Segura Jimenez"
   ]
  }
 ],
 "metadata": {
  "kernelspec": {
   "display_name": "Python 3 (ipykernel)",
   "language": "python",
   "name": "python3"
  },
  "language_info": {
   "codemirror_mode": {
    "name": "ipython",
    "version": 3
   },
   "file_extension": ".py",
   "mimetype": "text/x-python",
   "name": "python",
   "nbconvert_exporter": "python",
   "pygments_lexer": "ipython3",
   "version": "3.11.7"
  }
 },
 "nbformat": 4,
 "nbformat_minor": 5
}
